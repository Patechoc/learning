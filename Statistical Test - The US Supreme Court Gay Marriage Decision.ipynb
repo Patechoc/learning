{
 "cells": [
  {
   "cell_type": "code",
   "execution_count": 4,
   "metadata": {
    "collapsed": false
   },
   "outputs": [
    {
     "name": "stdout",
     "output_type": "stream",
     "text": [
      "On June 26, 2015, the United States supreme court voted 5-4 to\n",
      "fully legalize gay marriage in the country.\n",
      "All 3 female justices were in favor, as were 2 of the 6 male justices.\n",
      "All 4 dissenters were male.\n",
      "I wondered if the gender bias was statistically significant.\n",
      "In short, it is not (p = 0.12).\n"
     ]
    }
   ],
   "source": [
    "print '''On June 26, 2015, the United States supreme court voted 5-4 to\n",
    "fully legalize gay marriage in the country.\n",
    "All 3 female justices were in favor, as were 2 of the 6 male justices.\n",
    "All 4 dissenters were male.\n",
    "I wondered if the gender bias was statistically significant.\n",
    "In short, it is not (p = 0.12).'''"
   ]
  },
  {
   "cell_type": "code",
   "execution_count": 8,
   "metadata": {
    "collapsed": false
   },
   "outputs": [
    {
     "name": "stdout",
     "output_type": "stream",
     "text": [
      "Fisher exact test:\n",
      "p = 0.119\n"
     ]
    }
   ],
   "source": [
    "print 'Fisher exact test:'\n",
    "from scipy.stats import fisher_exact\n",
    "odds_ratio, p = stats.fisher_exact([[2,4],[3,0]], alternative='less')\n",
    "print 'p = %.3f' % p"
   ]
  },
  {
   "cell_type": "code",
   "execution_count": 60,
   "metadata": {
    "collapsed": false
   },
   "outputs": [
    {
     "name": "stdout",
     "output_type": "stream",
     "text": [
      "Samples too small for chi-square\n"
     ]
    }
   ],
   "source": [
    "print 'Samples too small for chi-square'"
   ]
  },
  {
   "cell_type": "code",
   "execution_count": 9,
   "metadata": {
    "collapsed": false
   },
   "outputs": [
    {
     "name": "stdout",
     "output_type": "stream",
     "text": [
      "Permutation test:\n",
      "p = 0.119\n"
     ]
    }
   ],
   "source": [
    "print 'Permutation test:'\n",
    "import numpy as np\n",
    "genders = ['F']*3 + ['M'] * 6\n",
    "women_majority = []\n",
    "trials = 10000\n",
    "for i in range(trials):\n",
    "    majority_votes = np.random.choice(genders, 5, replace=False)\n",
    "    women_majority.append((majority_votes == 'F').sum())\n",
    "\n",
    "print 'p = %.3f' % (sum(np.array(women_majority) == 3) / float(trials))"
   ]
  },
  {
   "cell_type": "code",
   "execution_count": 25,
   "metadata": {
    "collapsed": false
   },
   "outputs": [
    {
     "data": {
      "text/plain": [
       "<matplotlib.text.Text at 0x107a49dd0>"
      ]
     },
     "execution_count": 25,
     "metadata": {},
     "output_type": "execute_result"
    },
    {
     "data": {
      "image/png": "[encoded data removed]",
      "text/plain": [
       "<matplotlib.figure.Figure at 0x1078b6ad0>"
      ]
     },
     "metadata": {},
     "output_type": "display_data"
    }
   ],
   "source": [
    "import matplotlib.pyplot as plt\n",
    "import pandas as pd\n",
    "import seaborn as sns\n",
    "fig, ax = plt.subplots(1)\n",
    "counts = pd.Series(women_majority).value_counts(normalize=True).sort_index()\n",
    "blue, green, orange = sns.color_palette()[:3]\n",
    "counts[::-1].plot(kind='barh', ax=ax, colors=[orange, blue, blue, blue])\n",
    "ax.set_xticklabels(['%.0f%%' % (t*100) for t in ax.get_xticks()])\n",
    "ax.set_ylabel('Female justices in majority')\n",
    "ax.set_xlabel('Chance, given no gender bias')\n",
    "ax.set_title('Distribution of female justice majority votes in a random 5-4 decision')"
   ]
  },
  {
   "cell_type": "code",
   "execution_count": null,
   "metadata": {
    "collapsed": true
   },
   "outputs": [],
   "source": []
  }
 ],
 "metadata": {
  "kernelspec": {
   "display_name": "Python 2",
   "language": "python",
   "name": "python2"
  },
  "language_info": {
   "codemirror_mode": {
    "name": "ipython",
    "version": 2
   },
   "file_extension": ".py",
   "mimetype": "text/x-python",
   "name": "python",
   "nbconvert_exporter": "python",
   "pygments_lexer": "ipython2",
   "version": "2.7.6"
  }
 },
 "nbformat": 4,
 "nbformat_minor": 0
}
